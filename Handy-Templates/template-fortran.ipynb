{
 "cells": [
  {
   "attachments": {},
   "cell_type": "markdown",
   "metadata": {},
   "source": [
    "### P1"
   ]
  },
  {
   "attachments": {},
   "cell_type": "markdown",
   "metadata": {},
   "source": [
    "#### fortran-p1.f90"
   ]
  },
  {
   "attachments": {},
   "cell_type": "markdown",
   "metadata": {},
   "source": [
    "``` fortran\n",
    "program P1\n",
    "\n",
    "    implicit none\n",
    "   \n",
    "    integer :: i, j, fu\n",
    "    ! character(len=*), parameter :: OUT_FILE = 'data-p1.txt' ! Output file.\n",
    "    character(len=*), parameter :: PLT_SAVE = 'plot-p1.plt'   ! Save\n",
    "    \n",
    "    double precision :: x_vec(100) = 0\n",
    "    double precision :: y_vec(100) = 0\n",
    "    double precision :: z_vec(100, 100) = 0\n",
    "    \n",
    "\n",
    "    ! Computing the sin(2x) fucntion\n",
    "    do i = 1, 100\n",
    "        x_vec(i) = dble(i) / 20.0\n",
    "        y_vec(i) = sin(2*x_vec(i))\n",
    "    end do\n",
    "\n",
    "    ! print *, x_vec\n",
    "    \n",
    "    \n",
    "    ! Writing results in \".txt\" files\n",
    "    open (action='write', file=\"data-p1-sin.txt\", newunit=fu, status='replace')\n",
    "    do i = 1, 100\n",
    "        write (fu, '(F10.5 F10.5)') x_vec(i), y_vec(i)\n",
    "    end do\n",
    "    close(fu)\n",
    "\n",
    "    ! Now we create a 3D plot of tanh(x*y) with nestded loops\n",
    "    open (action='write', file=\"data-p1-surface.txt\", newunit=fu, status='replace')\n",
    "    do i = 1, 100\n",
    "        x_vec(i) = dble(i) / 20.0 - 2.5\n",
    "        do j = 1, 100\n",
    "            y_vec(j) = dble(j) / 20.0 - 2.5\n",
    "            z_vec(i,j) = tanh(x_vec(i)*y_vec(j))\n",
    "\n",
    "            write (fu, '(F10.5 F10.5 F10.5)') x_vec(i), y_vec(j), z_vec(i,j)\n",
    "        end do\n",
    "        write (fu, *) \"\"\n",
    "    end do\n",
    "    close(fu)\n",
    "\n",
    "\n",
    "    print *, \"Ploting started\"\n",
    "    call execute_command_line('gnuplot -p ' // PLT_SAVE)    ! Plot and save\n",
    "    \n",
    "    \n",
    "    print *, \"The program is finished\"\n",
    "end program P1\n",
    "```"
   ]
  },
  {
   "attachments": {},
   "cell_type": "markdown",
   "metadata": {},
   "source": [
    "#### plot-p1.plt (for gnuplot)"
   ]
  },
  {
   "attachments": {},
   "cell_type": "markdown",
   "metadata": {},
   "source": [
    "``` gnuplot\n",
    "# plot-save.plt\n",
    "set terminal pngcairo size 8000, 8000 fontscale 10 pointscale 1\n",
    "set size square\n",
    "set output \"sin-plot.png\"\n",
    "set xrange[0:5]\n",
    "set yrange[-1.5:1.5]\n",
    "set title \"y = Sin(2x)\"\n",
    "\n",
    "plot \"data-p1-sin.txt\" with linespoints pt 30 pointsize 10 title \"\"\n",
    "\n",
    "clear\n",
    "\n",
    "set xrange[-2.5:2.5]\n",
    "set yrange[-2.5:2.5]\n",
    "set output \"surface-plot.png\"\n",
    "set title \"z = Tanh(x*y)\"\n",
    "set hidden3d\n",
    "\n",
    "splot \"data-p1-surface.txt\" with lines lc rgb '#b90046' lw 1.5 title \"\"\n",
    "\n",
    "\n",
    "\n",
    "```"
   ]
  },
  {
   "attachments": {},
   "cell_type": "markdown",
   "metadata": {},
   "source": [
    "#### Results"
   ]
  },
  {
   "attachments": {},
   "cell_type": "markdown",
   "metadata": {},
   "source": [
    "![Alt text](fortran-code/p1/sin-plot.png)\n",
    "\n",
    "![Alt text](fortran-code/p1/surface-plot.png)"
   ]
  },
  {
   "attachments": {},
   "cell_type": "markdown",
   "metadata": {},
   "source": [
    "### P2"
   ]
  },
  {
   "attachments": {},
   "cell_type": "markdown",
   "metadata": {},
   "source": [
    "#### fortran-p2.f90"
   ]
  },
  {
   "attachments": {},
   "cell_type": "markdown",
   "metadata": {},
   "source": [
    "``` fortran\n",
    "program P2\n",
    "\n",
    "    implicit none\n",
    "   \n",
    "    integer :: i, fu\n",
    "    character(len=*), parameter :: PLT_SAVE = 'plot-p2.plt'     ! Save\n",
    "    integer, parameter :: dp = selected_real_kind(15, 307)      ! Double-precision type\n",
    "    \n",
    "    integer, parameter :: N = 1000                              ! Dimension of the matrix\n",
    "    real(dp) :: A_real(N,N), A_img(N,N)\n",
    "    complex(dp) :: A(N,N), A_t(N,N)\n",
    "    complex(dp) :: H_sum(N,N), H_mul(N,N)\n",
    "    real(dp) :: H_sum_eigen(N), H_mul_eigen(N)\n",
    "    \n",
    "\n",
    "\n",
    "    call random_seed()                    ! Setting the random seed\n",
    "    call random_number(A_real)            ! Random real part\n",
    "    call random_number(A_img)             ! Random imagenary part\n",
    "\n",
    "    ! Creating A and adjoint of it\n",
    "    A = A_real + A_img*complex(0.0, 1.0)\n",
    "    A_t = conjg(transpose(A))\n",
    "\n",
    "    ! Making Hermitian matrices \n",
    "    H_sum = A + A_t                         \n",
    "    H_mul = matmul(A, A_t)\n",
    "    \n",
    "    ! Computing the eigenvalues \n",
    "    H_sum_eigen = calc_eigen(H_sum, N)\n",
    "    H_mul_eigen = calc_eigen(H_mul, N)\n",
    "    \n",
    "    ! Writing results in \".txt\" files\n",
    "    open (action='write', file=\"data-p2-sum.txt\", newunit=fu, status='replace')\n",
    "    do i = 1, N-1\n",
    "        write (fu, '(F10.5)') H_sum_eigen(i)\n",
    "    end do\n",
    "    close(fu)\n",
    "\n",
    "    open (action='write', file=\"data-p2-mul.txt\", newunit=fu, status='replace')\n",
    "    do i = 1, N-1\n",
    "        write (fu, '(F10.5)') H_mul_eigen(i)\n",
    "    end do\n",
    "    close(fu)\n",
    "\n",
    "\n",
    "\n",
    "    print *, \"Ploting started\"\n",
    "    call execute_command_line('gnuplot -p ' // PLT_SAVE)    ! Plot and save\n",
    "    \n",
    "    \n",
    "    print *, \"The program is finished\"\n",
    "\n",
    "\n",
    "    contains\n",
    "\n",
    "    function  calc_eigen(mat, N_mat)     ! Calculates eigenvalues of hermitian matrices\n",
    "\n",
    "        ! This functions uses the ZHEEV subroutine from LAPACK lib.\n",
    "\n",
    "        implicit none\n",
    "\n",
    "        integer :: N_mat\n",
    "        integer :: LWORK\n",
    "        complex(dp) :: mat(N_mat, N_mat)\n",
    "        complex(dp) :: mat_copy(N_mat, N_mat)\n",
    "        real(dp) :: eigen_out(N_mat), calc_eigen(N_mat)\n",
    "        complex(dp) :: WORK(6*N_mat)\n",
    "        real(dp) :: RWORK(3*N_mat - 2)\n",
    "        integer :: info\n",
    "\n",
    "        LWORK = 6*N_mat\n",
    "\n",
    "        mat_copy = mat\n",
    "        call ZHEEV('N', 'U', N_mat, mat_copy, N_mat, eigen_out, WORK, LWORK, RWORK, info)\n",
    "\n",
    "        print *, \"ZHEEV info:\", info, \"\\n\"\n",
    "        calc_eigen = eigen_out\n",
    "\n",
    "    end function calc_eigen\n",
    "\n",
    "\n",
    "end program P2\n",
    "```"
   ]
  },
  {
   "attachments": {},
   "cell_type": "markdown",
   "metadata": {},
   "source": [
    "#### plot-p2.plt"
   ]
  },
  {
   "attachments": {},
   "cell_type": "markdown",
   "metadata": {},
   "source": [
    "```\n",
    "\n",
    "# plot-save.plt\n",
    "set terminal pngcairo size 2000, 2000 fontscale 4\n",
    "set style fill solid border -1\n",
    "set key off\n",
    "\n",
    "\n",
    "binwidth=1.5\n",
    "bin(x,width)=width*floor(x/width)\n",
    "\n",
    "\n",
    "set title \"A * A'  Eigenvalues\"\n",
    "set output \"hist-mul.png\"\n",
    "plot 'data-p2-mul.txt' using (bin($1,binwidth)):(1.0) smooth freq with boxes\n",
    "\n",
    "clear\n",
    "\n",
    "set title \"A + A'  Eigenvalues\"\n",
    "set output \"hist-sum.png\"\n",
    "plot 'data-p2-sum.txt' using (bin($1,binwidth)):(1.0) smooth freq with boxes\n",
    "\n",
    "\n",
    "\n",
    "```"
   ]
  },
  {
   "attachments": {},
   "cell_type": "markdown",
   "metadata": {},
   "source": [
    "#### Results"
   ]
  },
  {
   "attachments": {},
   "cell_type": "markdown",
   "metadata": {},
   "source": [
    "![Alt text](fortran-code/p2/hist-sum.png)\n",
    "\n",
    "![Alt text](fortran-code/p2/hist-mul.png)"
   ]
  },
  {
   "cell_type": "markdown",
   "metadata": {},
   "source": []
  }
 ],
 "metadata": {
  "kernelspec": {
   "display_name": "Python 3",
   "language": "python",
   "name": "python3"
  },
  "language_info": {
   "name": "python",
   "version": "3.11.6"
  },
  "orig_nbformat": 4,
  "vscode": {
   "interpreter": {
    "hash": "e7370f93d1d0cde622a1f8e1c04877d8463912d04d973331ad4851f04de6915a"
   }
  }
 },
 "nbformat": 4,
 "nbformat_minor": 2
}
