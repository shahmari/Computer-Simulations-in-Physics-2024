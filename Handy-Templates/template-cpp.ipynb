{
 "cells": [
  {
   "attachments": {},
   "cell_type": "markdown",
   "metadata": {},
   "source": [
    "### P1"
   ]
  },
  {
   "attachments": {},
   "cell_type": "markdown",
   "metadata": {},
   "source": [
    "#### cpp-p1.cpp"
   ]
  },
  {
   "attachments": {},
   "cell_type": "markdown",
   "metadata": {},
   "source": [
    "``` cpp\n",
    "#include <iostream>\n",
    "#include <math.h>\n",
    "#include <string>\n",
    "#include \"./gnuplot-iostream.h\"\n",
    "\n",
    "using namespace std;\n",
    "\n",
    "\n",
    "int main(){\n",
    "\n",
    "    // We initilize arrays for our variables\n",
    "    double x_array[100];\n",
    "    double y_array[100];\n",
    "    double z_array[100][100];\n",
    "\n",
    "    // Using gnuplot for plotting\n",
    "    Gnuplot gp1;\n",
    "    \n",
    "    // First we plot y = Sin(2x)\n",
    "    // Calculating the function for each point\n",
    "    for (int i=0; i<100; i++){\n",
    "        x_array[i] = double(i) / 20.0;\n",
    "        y_array[i] = sin(2.0*x_array[i]);\n",
    "\n",
    "    }\n",
    "\n",
    "    // Ploting and exportnig\n",
    "    gp1 << \"set xrange[0:5]\\n set yrange[-1.5:1.5] \\n\";\n",
    "    gp1 << \"set size square \\n\";\n",
    "    gp1 << \"set title \" << \"\\\"y = Sin(2x) \\\"\" <<\"\\n\";\n",
    "    gp1 << \"set output \" << \"\\\"sin-plot.png\\\"\" << \"\\n\"; // Comment this line and the next for plot only mode\n",
    "    gp1 << \"set terminal pngcairo size 8000, 8000 fontscale 10 linewidth 10 pointscale 1\\n\";\n",
    "    gp1 << \"plot '-' with lines title \\\"\\\" \\n\";\n",
    "\n",
    "    for (int i=0; i<100; i++){\n",
    "        gp1 << to_string(x_array[i]) << \" \" << to_string(y_array[i]) << \"\\n\";\n",
    "    }\n",
    "\n",
    "    // gp << \"clear\";\n",
    "\n",
    "    // Now we calculate and plot z = Tanh(x*y)\n",
    "    for (int i=0; i<100; i++){\n",
    "        x_array[i] = double(i) / 20.0 - 2.5;\n",
    "        for (int j=0; j<100; j++){\n",
    "                y_array[j] = double(j) / 20.0 - 2.5;\n",
    "                z_array[i][j] = tanh(x_array[i]*y_array[j]);\n",
    "        }\n",
    "\n",
    "    }\n",
    "\n",
    "\n",
    "\n",
    "    // Ploting and exportnig\n",
    "    Gnuplot gp2;\n",
    "    gp2 << \"set xrange[-2.5:2.5]\\n set yrange[-2.5:2.5] \\n\";\n",
    "    gp2 << \"set size square \\n\";\n",
    "    gp2 << \"set title \" << \"\\\"z = Tanh(x*y) \\\"\" <<\"\\n\";\n",
    "    gp2 << \"set output \" << \"\\\"surface-plot.png\\\"\" << \"\\n\"; // Comment this line and the next for plot only mode\n",
    "    gp2 << \"set terminal pngcairo size 8000, 8000 fontscale 10 linewidth 10 pointscale 1\\n\";\n",
    "    gp2 << \"set hidden3d \\n \";\n",
    "    gp2 << \"splot '-' with lines lc rgb \\'#b90046\\' lw 1.5 title \\\"\\\"\\n\";\n",
    "\n",
    "    for (int i=0; i<100; i++){\n",
    "        for (int j=0; j<100; j++){\n",
    "            gp2 << to_string(x_array[i]) << \" \" << to_string(y_array[j]) << \" \" << to_string(z_array[i][j]) << \"\\n\";\n",
    "        }\n",
    "        gp2 << \"\\n\";\n",
    "    }\n",
    "\n",
    "    \n",
    "\n",
    "    return 0;\n",
    "}\n",
    "\n",
    "```"
   ]
  },
  {
   "attachments": {},
   "cell_type": "markdown",
   "metadata": {},
   "source": [
    "#### Results"
   ]
  },
  {
   "attachments": {},
   "cell_type": "markdown",
   "metadata": {},
   "source": [
    "![Alt text](C++-code/p1/sin-plot.png)\n",
    "\n",
    "![Alt text](C++-code//p1/surface-plot.png)"
   ]
  }
 ],
 "metadata": {
  "kernelspec": {
   "display_name": "Python 3",
   "language": "python",
   "name": "python3"
  },
  "language_info": {
   "name": "python",
   "version": "3.11.6"
  },
  "orig_nbformat": 4,
  "vscode": {
   "interpreter": {
    "hash": "e7370f93d1d0cde622a1f8e1c04877d8463912d04d973331ad4851f04de6915a"
   }
  }
 },
 "nbformat": 4,
 "nbformat_minor": 2
}
